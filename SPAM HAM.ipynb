{
 "cells": [
  {
   "cell_type": "code",
   "execution_count": 1,
   "id": "91c6900d-d5c6-4682-b646-0b0314055d7b",
   "metadata": {},
   "outputs": [],
   "source": [
    "import numpy as np\n",
    "import pandas as pd\n",
    "import matplotlib.pyplot as plt\n",
    "import seaborn as sns"
   ]
  },
  {
   "cell_type": "raw",
   "id": "ff304a01-a9e6-4dd9-b0e6-cb0d4420fb50",
   "metadata": {},
   "source": [
    "DATA PREPROCESSING"
   ]
  },
  {
   "cell_type": "code",
   "execution_count": 2,
   "id": "1c20e526-e3a4-43f2-9b82-fb80947464a6",
   "metadata": {},
   "outputs": [
    {
     "data": {
      "text/html": [
       "<div>\n",
       "<style scoped>\n",
       "    .dataframe tbody tr th:only-of-type {\n",
       "        vertical-align: middle;\n",
       "    }\n",
       "\n",
       "    .dataframe tbody tr th {\n",
       "        vertical-align: top;\n",
       "    }\n",
       "\n",
       "    .dataframe thead th {\n",
       "        text-align: right;\n",
       "    }\n",
       "</style>\n",
       "<table border=\"1\" class=\"dataframe\">\n",
       "  <thead>\n",
       "    <tr style=\"text-align: right;\">\n",
       "      <th></th>\n",
       "      <th>label</th>\n",
       "      <th>message</th>\n",
       "      <th>length</th>\n",
       "      <th>punct</th>\n",
       "    </tr>\n",
       "  </thead>\n",
       "  <tbody>\n",
       "    <tr>\n",
       "      <th>0</th>\n",
       "      <td>ham</td>\n",
       "      <td>Go until jurong point, crazy.. Available only ...</td>\n",
       "      <td>111</td>\n",
       "      <td>9</td>\n",
       "    </tr>\n",
       "    <tr>\n",
       "      <th>1</th>\n",
       "      <td>ham</td>\n",
       "      <td>Ok lar... Joking wif u oni...</td>\n",
       "      <td>29</td>\n",
       "      <td>6</td>\n",
       "    </tr>\n",
       "    <tr>\n",
       "      <th>2</th>\n",
       "      <td>spam</td>\n",
       "      <td>Free entry in 2 a wkly comp to win FA Cup fina...</td>\n",
       "      <td>155</td>\n",
       "      <td>6</td>\n",
       "    </tr>\n",
       "    <tr>\n",
       "      <th>3</th>\n",
       "      <td>ham</td>\n",
       "      <td>U dun say so early hor... U c already then say...</td>\n",
       "      <td>49</td>\n",
       "      <td>6</td>\n",
       "    </tr>\n",
       "    <tr>\n",
       "      <th>4</th>\n",
       "      <td>ham</td>\n",
       "      <td>Nah I don't think he goes to usf, he lives aro...</td>\n",
       "      <td>61</td>\n",
       "      <td>2</td>\n",
       "    </tr>\n",
       "  </tbody>\n",
       "</table>\n",
       "</div>"
      ],
      "text/plain": [
       "  label                                            message  length  punct\n",
       "0   ham  Go until jurong point, crazy.. Available only ...     111      9\n",
       "1   ham                      Ok lar... Joking wif u oni...      29      6\n",
       "2  spam  Free entry in 2 a wkly comp to win FA Cup fina...     155      6\n",
       "3   ham  U dun say so early hor... U c already then say...      49      6\n",
       "4   ham  Nah I don't think he goes to usf, he lives aro...      61      2"
      ]
     },
     "execution_count": 2,
     "metadata": {},
     "output_type": "execute_result"
    }
   ],
   "source": [
    "df=pd.read_csv(\"spam.tsv\",sep=\"\\t\")\n",
    "df.head()"
   ]
  },
  {
   "cell_type": "code",
   "execution_count": 3,
   "id": "e2b447c5-77d0-4f97-9beb-dde568a96c05",
   "metadata": {},
   "outputs": [
    {
     "data": {
      "text/plain": [
       "(5572, 4)"
      ]
     },
     "execution_count": 3,
     "metadata": {},
     "output_type": "execute_result"
    }
   ],
   "source": [
    "df.shape"
   ]
  },
  {
   "cell_type": "code",
   "execution_count": 4,
   "id": "2129926e-fb78-4ca8-9055-fbc7ad8bb4d3",
   "metadata": {},
   "outputs": [],
   "source": [
    "#We have 5572 observations and 4 columns"
   ]
  },
  {
   "cell_type": "code",
   "execution_count": 5,
   "id": "6e60f457-75d1-4c63-a1d8-0036a0fc1c4c",
   "metadata": {},
   "outputs": [
    {
     "data": {
      "text/plain": [
       "label      object\n",
       "message    object\n",
       "length      int64\n",
       "punct       int64\n",
       "dtype: object"
      ]
     },
     "execution_count": 5,
     "metadata": {},
     "output_type": "execute_result"
    }
   ],
   "source": [
    "df.dtypes"
   ]
  },
  {
   "cell_type": "code",
   "execution_count": 6,
   "id": "a3d2410b-6a7f-40e6-9979-ff1276bf3c2c",
   "metadata": {},
   "outputs": [],
   "source": [
    "# we have 2 object columns and 2 numerical columns"
   ]
  },
  {
   "cell_type": "raw",
   "id": "a24ba364-b391-49d3-9e59-77eedb0b14ab",
   "metadata": {},
   "source": [
    "We can infer columns- message,length,punctuation,label.\n",
    "*Length of message\n",
    "*How many punctuation exist\n",
    "*Our Objective is to build model based on binary classification between ham /spam\n",
    "*Based on message we need to classify ham or spam"
   ]
  },
  {
   "cell_type": "code",
   "execution_count": 7,
   "id": "87f6e65a-8dc7-4aac-924e-5d95a1a31fdb",
   "metadata": {},
   "outputs": [],
   "source": [
    "#we need to check any data is missing"
   ]
  },
  {
   "cell_type": "code",
   "execution_count": 8,
   "id": "3681d791-ed91-4440-af8e-6ab36392765c",
   "metadata": {},
   "outputs": [
    {
     "data": {
      "text/plain": [
       "label      0\n",
       "message    0\n",
       "length     0\n",
       "punct      0\n",
       "dtype: int64"
      ]
     },
     "execution_count": 8,
     "metadata": {},
     "output_type": "execute_result"
    }
   ],
   "source": [
    "df.isna().sum()"
   ]
  },
  {
   "cell_type": "code",
   "execution_count": 9,
   "id": "214e6df1-c56b-41de-9c89-8717e9173fca",
   "metadata": {},
   "outputs": [],
   "source": [
    "#This dataset is free from null values"
   ]
  },
  {
   "cell_type": "code",
   "execution_count": 10,
   "id": "63d011f3-9ddc-4ee1-bcaa-14c1330f09da",
   "metadata": {},
   "outputs": [
    {
     "data": {
      "text/html": [
       "<div>\n",
       "<style scoped>\n",
       "    .dataframe tbody tr th:only-of-type {\n",
       "        vertical-align: middle;\n",
       "    }\n",
       "\n",
       "    .dataframe tbody tr th {\n",
       "        vertical-align: top;\n",
       "    }\n",
       "\n",
       "    .dataframe thead th {\n",
       "        text-align: right;\n",
       "    }\n",
       "</style>\n",
       "<table border=\"1\" class=\"dataframe\">\n",
       "  <thead>\n",
       "    <tr style=\"text-align: right;\">\n",
       "      <th></th>\n",
       "      <th>length</th>\n",
       "      <th>punct</th>\n",
       "    </tr>\n",
       "  </thead>\n",
       "  <tbody>\n",
       "    <tr>\n",
       "      <th>count</th>\n",
       "      <td>5572.000000</td>\n",
       "      <td>5572.000000</td>\n",
       "    </tr>\n",
       "    <tr>\n",
       "      <th>mean</th>\n",
       "      <td>80.489950</td>\n",
       "      <td>4.177495</td>\n",
       "    </tr>\n",
       "    <tr>\n",
       "      <th>std</th>\n",
       "      <td>59.942907</td>\n",
       "      <td>4.623919</td>\n",
       "    </tr>\n",
       "    <tr>\n",
       "      <th>min</th>\n",
       "      <td>2.000000</td>\n",
       "      <td>0.000000</td>\n",
       "    </tr>\n",
       "    <tr>\n",
       "      <th>25%</th>\n",
       "      <td>36.000000</td>\n",
       "      <td>2.000000</td>\n",
       "    </tr>\n",
       "    <tr>\n",
       "      <th>50%</th>\n",
       "      <td>62.000000</td>\n",
       "      <td>3.000000</td>\n",
       "    </tr>\n",
       "    <tr>\n",
       "      <th>75%</th>\n",
       "      <td>122.000000</td>\n",
       "      <td>6.000000</td>\n",
       "    </tr>\n",
       "    <tr>\n",
       "      <th>max</th>\n",
       "      <td>910.000000</td>\n",
       "      <td>133.000000</td>\n",
       "    </tr>\n",
       "  </tbody>\n",
       "</table>\n",
       "</div>"
      ],
      "text/plain": [
       "            length        punct\n",
       "count  5572.000000  5572.000000\n",
       "mean     80.489950     4.177495\n",
       "std      59.942907     4.623919\n",
       "min       2.000000     0.000000\n",
       "25%      36.000000     2.000000\n",
       "50%      62.000000     3.000000\n",
       "75%     122.000000     6.000000\n",
       "max     910.000000   133.000000"
      ]
     },
     "execution_count": 10,
     "metadata": {},
     "output_type": "execute_result"
    }
   ],
   "source": [
    "#we can perform statsitical analysis\n",
    "df.describe()"
   ]
  },
  {
   "cell_type": "code",
   "execution_count": 11,
   "id": "8e1e8314-27fd-4b8b-ba19-d1ce7c10fbdc",
   "metadata": {},
   "outputs": [
    {
     "data": {
      "text/plain": [
       "label\n",
       "ham     4825\n",
       "spam     747\n",
       "Name: count, dtype: int64"
      ]
     },
     "execution_count": 11,
     "metadata": {},
     "output_type": "execute_result"
    }
   ],
   "source": [
    "df[\"label\"].value_counts()"
   ]
  },
  {
   "cell_type": "code",
   "execution_count": 12,
   "id": "5751b733-0a52-42a2-a70b-86aa9d2aa7e6",
   "metadata": {},
   "outputs": [
    {
     "data": {
      "text/plain": [
       "label\n",
       "ham     0.865937\n",
       "spam    0.134063\n",
       "Name: count, dtype: float64"
      ]
     },
     "execution_count": 12,
     "metadata": {},
     "output_type": "execute_result"
    }
   ],
   "source": [
    "df[\"label\"].value_counts()/len(df)"
   ]
  },
  {
   "cell_type": "code",
   "execution_count": 13,
   "id": "3280f445-df56-42cd-9036-249a28c2b83d",
   "metadata": {},
   "outputs": [
    {
     "data": {
      "text/plain": [
       "([<matplotlib.patches.Wedge at 0x215a6601dd0>,\n",
       "  <matplotlib.patches.Wedge at 0x215a6699210>],\n",
       " [Text(-1.0038714981945518, 0.4497132587689916, 'ham'),\n",
       "  Text(1.0038714771419537, -0.44971330576360763, 'spam')],\n",
       " [Text(-0.5475662717424827, 0.24529814114672266, '86.59'),\n",
       "  Text(0.5475662602592474, -0.2452981667801496, '13.41')])"
      ]
     },
     "execution_count": 13,
     "metadata": {},
     "output_type": "execute_result"
    },
    {
     "data": {
      "image/png": "[encoded data removed]",
      "text/plain": [
       "<Figure size 640x480 with 1 Axes>"
      ]
     },
     "metadata": {},
     "output_type": "display_data"
    }
   ],
   "source": [
    "plt.pie(df[\"label\"].value_counts(),labels=df[\"label\"].value_counts().index,autopct=\"%.2f\")"
   ]
  },
  {
   "cell_type": "code",
   "execution_count": 14,
   "id": "6ec66283-3690-486b-bb1c-f332b03174d5",
   "metadata": {},
   "outputs": [],
   "source": [
    "#we have 86% of ham category and 13% of spam category which is imbalanced dataset\n",
    "# we need to collect more data that is one way to overcome of it\n",
    "#we need to make the data equalize"
   ]
  },
  {
   "cell_type": "code",
   "execution_count": 15,
   "id": "d023706a-98df-479e-bc86-f53e9f72f113",
   "metadata": {},
   "outputs": [],
   "source": [
    "ham=df[df[\"label\"]==\"ham\"]\n",
    "spam=df[df[\"label\"]==\"spam\"]"
   ]
  },
  {
   "cell_type": "code",
   "execution_count": 16,
   "id": "5debf08e-90cc-4764-969a-b61bb7b01986",
   "metadata": {},
   "outputs": [
    {
     "data": {
      "text/plain": [
       "((4825, 4), (747, 4))"
      ]
     },
     "execution_count": 16,
     "metadata": {},
     "output_type": "execute_result"
    }
   ],
   "source": [
    "ham.shape,spam.shape"
   ]
  },
  {
   "cell_type": "code",
   "execution_count": 17,
   "id": "224d02a5-bbf4-4665-9320-e09fce3c9d29",
   "metadata": {},
   "outputs": [],
   "source": [
    "#equalize we can randomly pick 747 or close to 747 dataset from ham"
   ]
  },
  {
   "cell_type": "code",
   "execution_count": 18,
   "id": "fd45a531-412a-44e1-81a4-a9a3388ae3ef",
   "metadata": {},
   "outputs": [],
   "source": [
    "ham=ham.sample(spam.shape[0])"
   ]
  },
  {
   "cell_type": "code",
   "execution_count": 19,
   "id": "502aa993-79a2-4d48-959b-62f8f42a75b1",
   "metadata": {},
   "outputs": [
    {
     "data": {
      "text/plain": [
       "((747, 4), (747, 4))"
      ]
     },
     "execution_count": 19,
     "metadata": {},
     "output_type": "execute_result"
    }
   ],
   "source": [
    "ham.shape,spam.shape"
   ]
  },
  {
   "cell_type": "code",
   "execution_count": 20,
   "id": "8de1995c-9a40-4558-b3d9-80212914e1d0",
   "metadata": {},
   "outputs": [],
   "source": [
    "#we sampled based on spam shape"
   ]
  },
  {
   "cell_type": "code",
   "execution_count": 21,
   "id": "84d19474-d132-42b3-b510-fdaa96925ced",
   "metadata": {},
   "outputs": [],
   "source": [
    "#here we created new dataframe for ham,spam"
   ]
  },
  {
   "cell_type": "code",
   "execution_count": 22,
   "id": "bfafcc7e-c772-4b7c-9a82-3883b1bd7bca",
   "metadata": {},
   "outputs": [],
   "source": [
    "data = pd.concat([ham, spam], ignore_index=True)"
   ]
  },
  {
   "cell_type": "code",
   "execution_count": 23,
   "id": "e5696d81-9b54-4375-8599-3a85ce29e411",
   "metadata": {},
   "outputs": [
    {
     "data": {
      "text/plain": [
       "(1494, 4)"
      ]
     },
     "execution_count": 23,
     "metadata": {},
     "output_type": "execute_result"
    }
   ],
   "source": [
    "data.shape"
   ]
  },
  {
   "cell_type": "code",
   "execution_count": 24,
   "id": "41eb36d7-f8d7-4802-b422-138a6ad63979",
   "metadata": {},
   "outputs": [
    {
     "data": {
      "text/plain": [
       "([<matplotlib.patches.Wedge at 0x215a66e0c50>,\n",
       "  <matplotlib.patches.Wedge at 0x215a672b690>],\n",
       " [Text(6.735557395310444e-17, 1.1, 'ham'),\n",
       "  Text(-2.0206672185931328e-16, -1.1, 'spam')],\n",
       " [Text(3.6739403974420595e-17, 0.6, '50.00'),\n",
       "  Text(-1.1021821192326178e-16, -0.6, '50.00')])"
      ]
     },
     "execution_count": 24,
     "metadata": {},
     "output_type": "execute_result"
    },
    {
     "data": {
      "image/png": "[encoded data removed]",
      "text/plain": [
       "<Figure size 640x480 with 1 Axes>"
      ]
     },
     "metadata": {},
     "output_type": "display_data"
    }
   ],
   "source": [
    "plt.pie(data[\"label\"].value_counts(),labels=data[\"label\"].value_counts().index,autopct=\"%.2f\")"
   ]
  },
  {
   "cell_type": "code",
   "execution_count": 25,
   "id": "09a01899-8fed-4947-8d54-a45d42f92cc0",
   "metadata": {},
   "outputs": [],
   "source": [
    "#univariant analysis on length"
   ]
  },
  {
   "cell_type": "code",
   "execution_count": 26,
   "id": "1c1f937e-3ec4-4336-a464-2c123e096c48",
   "metadata": {},
   "outputs": [
    {
     "data": {
      "image/png": "[encoded data removed]",
      "text/plain": [
       "<Figure size 640x480 with 1 Axes>"
      ]
     },
     "metadata": {},
     "output_type": "display_data"
    }
   ],
   "source": [
    "plt.hist(data[data[\"label\"]==\"ham\"][\"length\"],bins=100,alpha=0.7)\n",
    "plt.hist(data[data[\"label\"]==\"spam\"][\"length\"],bins=100,alpha=0.7)\n",
    "plt.show()"
   ]
  },
  {
   "cell_type": "code",
   "execution_count": 27,
   "id": "e0b30bf1-6458-4c1a-8af4-672395166c2e",
   "metadata": {},
   "outputs": [],
   "source": [
    "#univariant analysis on punct"
   ]
  },
  {
   "cell_type": "code",
   "execution_count": 28,
   "id": "237998f4-7bda-4e30-b355-f26814bb7884",
   "metadata": {},
   "outputs": [
    {
     "data": {
      "image/png": "[encoded data removed]",
      "text/plain": [
       "<Figure size 640x480 with 1 Axes>"
      ]
     },
     "metadata": {},
     "output_type": "display_data"
    }
   ],
   "source": [
    "plt.hist(data[data[\"label\"]==\"ham\"][\"punct\"],bins=100,alpha=0.7)\n",
    "plt.hist(data[data[\"label\"]==\"spam\"][\"punct\"],bins=100,alpha=0.7)\n",
    "plt.show()"
   ]
  },
  {
   "cell_type": "code",
   "execution_count": 29,
   "id": "edd2d7e9-2ce4-4be5-ab13-c21623c570e7",
   "metadata": {},
   "outputs": [],
   "source": [
    "#Bivariant analysis"
   ]
  },
  {
   "cell_type": "code",
   "execution_count": 30,
   "id": "98856eae-864d-43c6-a99f-f97b522f2183",
   "metadata": {},
   "outputs": [
    {
     "data": {
      "image/png": "[encoded data removed]",
      "text/plain": [
       "<Figure size 800x600 with 1 Axes>"
      ]
     },
     "metadata": {},
     "output_type": "display_data"
    }
   ],
   "source": [
    "# Scatter plot for length vs. punct\n",
    "plt.figure(figsize=(8, 6))\n",
    "sns.scatterplot(x='length', y='punct', data=data)\n",
    "plt.title('Scatter Plot of Length vs. Punctuation Count')\n",
    "plt.show()"
   ]
  },
  {
   "cell_type": "code",
   "execution_count": 31,
   "id": "38217955-717b-43c3-82d8-6c83477432a5",
   "metadata": {},
   "outputs": [
    {
     "data": {
      "image/png": "[encoded data removed]",
      "text/plain": [
       "<Figure size 800x600 with 1 Axes>"
      ]
     },
     "metadata": {},
     "output_type": "display_data"
    }
   ],
   "source": [
    "# Box plot for label vs. length\n",
    "plt.figure(figsize=(8, 6))\n",
    "sns.boxplot(x='label', y='length', data=data)\n",
    "plt.title('Box Plot of Label vs. Message Length')\n",
    "plt.show()"
   ]
  },
  {
   "cell_type": "code",
   "execution_count": 32,
   "id": "a971fcbf-c75e-4a72-9f58-fd2d85958559",
   "metadata": {},
   "outputs": [
    {
     "data": {
      "image/png": "[encoded data removed]",
      "text/plain": [
       "<Figure size 800x600 with 1 Axes>"
      ]
     },
     "metadata": {},
     "output_type": "display_data"
    }
   ],
   "source": [
    "# Box plot for label vs. punct\n",
    "plt.figure(figsize=(8, 6))\n",
    "sns.boxplot(x='label', y='punct', data=data)\n",
    "plt.title('Box Plot of Label vs. Punctuation Count')\n",
    "plt.show()"
   ]
  },
  {
   "cell_type": "code",
   "execution_count": 33,
   "id": "59b500f1-b31c-429a-b95a-25a8e9c1a48e",
   "metadata": {},
   "outputs": [
    {
     "data": {
      "text/plain": [
       "label      object\n",
       "message    object\n",
       "length      int64\n",
       "punct       int64\n",
       "dtype: object"
      ]
     },
     "execution_count": 33,
     "metadata": {},
     "output_type": "execute_result"
    }
   ],
   "source": [
    "#multivaraint\n",
    "data.dtypes"
   ]
  },
  {
   "cell_type": "code",
   "execution_count": 34,
   "id": "7a54ce85-1fa7-4f0d-a74f-31fdbbbe3d84",
   "metadata": {},
   "outputs": [
    {
     "data": {
      "text/html": [
       "<div>\n",
       "<style scoped>\n",
       "    .dataframe tbody tr th:only-of-type {\n",
       "        vertical-align: middle;\n",
       "    }\n",
       "\n",
       "    .dataframe tbody tr th {\n",
       "        vertical-align: top;\n",
       "    }\n",
       "\n",
       "    .dataframe thead th {\n",
       "        text-align: right;\n",
       "    }\n",
       "</style>\n",
       "<table border=\"1\" class=\"dataframe\">\n",
       "  <thead>\n",
       "    <tr style=\"text-align: right;\">\n",
       "      <th></th>\n",
       "      <th>length</th>\n",
       "      <th>punct</th>\n",
       "    </tr>\n",
       "  </thead>\n",
       "  <tbody>\n",
       "    <tr>\n",
       "      <th>length</th>\n",
       "      <td>1.000000</td>\n",
       "      <td>0.627741</td>\n",
       "    </tr>\n",
       "    <tr>\n",
       "      <th>punct</th>\n",
       "      <td>0.627741</td>\n",
       "      <td>1.000000</td>\n",
       "    </tr>\n",
       "  </tbody>\n",
       "</table>\n",
       "</div>"
      ],
      "text/plain": [
       "          length     punct\n",
       "length  1.000000  0.627741\n",
       "punct   0.627741  1.000000"
      ]
     },
     "execution_count": 34,
     "metadata": {},
     "output_type": "execute_result"
    }
   ],
   "source": [
    "data.corr(numeric_only=True)"
   ]
  },
  {
   "cell_type": "code",
   "execution_count": 35,
   "id": "6a06a834-70f5-40fb-920e-32ef6ba3195f",
   "metadata": {},
   "outputs": [
    {
     "name": "stderr",
     "output_type": "stream",
     "text": [
      "C:\\Users\\srinn\\anaconda3\\Lib\\site-packages\\seaborn\\_oldcore.py:1119: FutureWarning: use_inf_as_na option is deprecated and will be removed in a future version. Convert inf values to NaN before operating instead.\n",
      "  with pd.option_context('mode.use_inf_as_na', True):\n",
      "C:\\Users\\srinn\\anaconda3\\Lib\\site-packages\\seaborn\\_oldcore.py:1119: FutureWarning: use_inf_as_na option is deprecated and will be removed in a future version. Convert inf values to NaN before operating instead.\n",
      "  with pd.option_context('mode.use_inf_as_na', True):\n"
     ]
    },
    {
     "data": {
      "image/png": "[encoded data removed]",
      "text/plain": [
       "<Figure size 588.125x500 with 6 Axes>"
      ]
     },
     "metadata": {},
     "output_type": "display_data"
    }
   ],
   "source": [
    "sns.pairplot(df, hue='label', vars=['length', 'punct'])\n",
    "plt.show()"
   ]
  },
  {
   "cell_type": "code",
   "execution_count": 36,
   "id": "301eb0f7-a6b0-4dcc-9dca-b5e8ff450cd2",
   "metadata": {},
   "outputs": [],
   "source": [
    "#SPLITTING DATA INTO TRAIN AND TEST:\n",
    "from sklearn.model_selection import train_test_split"
   ]
  },
  {
   "cell_type": "code",
   "execution_count": 37,
   "id": "b17e60b6-799f-40c5-a18d-8235f239face",
   "metadata": {},
   "outputs": [],
   "source": [
    "# Features and target variable\n",
    "X = data['message']\n",
    "y = data['label']"
   ]
  },
  {
   "cell_type": "code",
   "execution_count": 38,
   "id": "a288eb9d-796f-412d-b2fe-9fbd8c1750b5",
   "metadata": {},
   "outputs": [],
   "source": [
    "xtrain,xtest,ytrain,ytest=train_test_split(X,y,test_size=0.30,random_state=10)"
   ]
  },
  {
   "cell_type": "code",
   "execution_count": 39,
   "id": "70d79b9f-b89a-4b92-909e-97b6702dfe06",
   "metadata": {},
   "outputs": [
    {
     "name": "stdout",
     "output_type": "stream",
     "text": [
      "(1045,)\n",
      "(1045,)\n",
      "(449,)\n",
      "(449,)\n"
     ]
    }
   ],
   "source": [
    "#Building the model\n",
    "print(xtrain.shape)\n",
    "print(ytrain.shape)\n",
    "print(xtest.shape)\n",
    "print(ytest.shape)"
   ]
  },
  {
   "cell_type": "code",
   "execution_count": 40,
   "id": "77b1166c-b171-4636-b5d0-98f0e925abd3",
   "metadata": {},
   "outputs": [],
   "source": [
    "#Random forest\n",
    "from sklearn.feature_extraction.text import  TfidfVectorizer\n",
    "from sklearn.ensemble import RandomForestClassifier\n",
    "from sklearn.pipeline import Pipeline"
   ]
  },
  {
   "cell_type": "code",
   "execution_count": 41,
   "id": "1a339bc3-da4a-49d5-97fe-91d9a197d95f",
   "metadata": {},
   "outputs": [],
   "source": [
    "classifier=Pipeline([(\"tfidf\",TfidfVectorizer()),(\"classifier\",RandomForestClassifier(n_estimators=10))])"
   ]
  },
  {
   "cell_type": "code",
   "execution_count": 42,
   "id": "0eb1c7d2-1d66-4be5-848e-7debd4f74196",
   "metadata": {},
   "outputs": [
    {
     "data": {
      "text/html": [
       "<style>#sk-container-id-1 {color: black;background-color: white;}#sk-container-id-1 pre{padding: 0;}#sk-container-id-1 div.sk-toggleable {background-color: white;}#sk-container-id-1 label.sk-toggleable__label {cursor: pointer;display: block;width: 100%;margin-bottom: 0;padding: 0.3em;box-sizing: border-box;text-align: center;}#sk-container-id-1 label.sk-toggleable__label-arrow:before {content: \"▸\";float: left;margin-right: 0.25em;color: #696969;}#sk-container-id-1 label.sk-toggleable__label-arrow:hover:before {color: black;}#sk-container-id-1 div.sk-estimator:hover label.sk-toggleable__label-arrow:before {color: black;}#sk-container-id-1 div.sk-toggleable__content {max-height: 0;max-width: 0;overflow: hidden;text-align: left;background-color: #f0f8ff;}#sk-container-id-1 div.sk-toggleable__content pre {margin: 0.2em;color: black;border-radius: 0.25em;background-color: #f0f8ff;}#sk-container-id-1 input.sk-toggleable__control:checked~div.sk-toggleable__content {max-height: 200px;max-width: 100%;overflow: auto;}#sk-container-id-1 input.sk-toggleable__control:checked~label.sk-toggleable__label-arrow:before {content: \"▾\";}#sk-container-id-1 div.sk-estimator input.sk-toggleable__control:checked~label.sk-toggleable__label {background-color: #d4ebff;}#sk-container-id-1 div.sk-label input.sk-toggleable__control:checked~label.sk-toggleable__label {background-color: #d4ebff;}#sk-container-id-1 input.sk-hidden--visually {border: 0;clip: rect(1px 1px 1px 1px);clip: rect(1px, 1px, 1px, 1px);height: 1px;margin: -1px;overflow: hidden;padding: 0;position: absolute;width: 1px;}#sk-container-id-1 div.sk-estimator {font-family: monospace;background-color: #f0f8ff;border: 1px dotted black;border-radius: 0.25em;box-sizing: border-box;margin-bottom: 0.5em;}#sk-container-id-1 div.sk-estimator:hover {background-color: #d4ebff;}#sk-container-id-1 div.sk-parallel-item::after {content: \"\";width: 100%;border-bottom: 1px solid gray;flex-grow: 1;}#sk-container-id-1 div.sk-label:hover label.sk-toggleable__label {background-color: #d4ebff;}#sk-container-id-1 div.sk-serial::before {content: \"\";position: absolute;border-left: 1px solid gray;box-sizing: border-box;top: 0;bottom: 0;left: 50%;z-index: 0;}#sk-container-id-1 div.sk-serial {display: flex;flex-direction: column;align-items: center;background-color: white;padding-right: 0.2em;padding-left: 0.2em;position: relative;}#sk-container-id-1 div.sk-item {position: relative;z-index: 1;}#sk-container-id-1 div.sk-parallel {display: flex;align-items: stretch;justify-content: center;background-color: white;position: relative;}#sk-container-id-1 div.sk-item::before, #sk-container-id-1 div.sk-parallel-item::before {content: \"\";position: absolute;border-left: 1px solid gray;box-sizing: border-box;top: 0;bottom: 0;left: 50%;z-index: -1;}#sk-container-id-1 div.sk-parallel-item {display: flex;flex-direction: column;z-index: 1;position: relative;background-color: white;}#sk-container-id-1 div.sk-parallel-item:first-child::after {align-self: flex-end;width: 50%;}#sk-container-id-1 div.sk-parallel-item:last-child::after {align-self: flex-start;width: 50%;}#sk-container-id-1 div.sk-parallel-item:only-child::after {width: 0;}#sk-container-id-1 div.sk-dashed-wrapped {border: 1px dashed gray;margin: 0 0.4em 0.5em 0.4em;box-sizing: border-box;padding-bottom: 0.4em;background-color: white;}#sk-container-id-1 div.sk-label label {font-family: monospace;font-weight: bold;display: inline-block;line-height: 1.2em;}#sk-container-id-1 div.sk-label-container {text-align: center;}#sk-container-id-1 div.sk-container {/* jupyter's `normalize.less` sets `[hidden] { display: none; }` but bootstrap.min.css set `[hidden] { display: none !important; }` so we also need the `!important` here to be able to override the default hidden behavior on the sphinx rendered scikit-learn.org. See: https://github.com/scikit-learn/scikit-learn/issues/21755 */display: inline-block !important;position: relative;}#sk-container-id-1 div.sk-text-repr-fallback {display: none;}</style><div id=\"sk-container-id-1\" class=\"sk-top-container\"><div class=\"sk-text-repr-fallback\"><pre>Pipeline(steps=[(&#x27;tfidf&#x27;, TfidfVectorizer()),\n",
       "                (&#x27;classifier&#x27;, RandomForestClassifier(n_estimators=10))])</pre><b>In a Jupyter environment, please rerun this cell to show the HTML representation or trust the notebook. <br />On GitHub, the HTML representation is unable to render, please try loading this page with nbviewer.org.</b></div><div class=\"sk-container\" hidden><div class=\"sk-item sk-dashed-wrapped\"><div class=\"sk-label-container\"><div class=\"sk-label sk-toggleable\"><input class=\"sk-toggleable__control sk-hidden--visually\" id=\"sk-estimator-id-1\" type=\"checkbox\" ><label for=\"sk-estimator-id-1\" class=\"sk-toggleable__label sk-toggleable__label-arrow\">Pipeline</label><div class=\"sk-toggleable__content\"><pre>Pipeline(steps=[(&#x27;tfidf&#x27;, TfidfVectorizer()),\n",
       "                (&#x27;classifier&#x27;, RandomForestClassifier(n_estimators=10))])</pre></div></div></div><div class=\"sk-serial\"><div class=\"sk-item\"><div class=\"sk-estimator sk-toggleable\"><input class=\"sk-toggleable__control sk-hidden--visually\" id=\"sk-estimator-id-2\" type=\"checkbox\" ><label for=\"sk-estimator-id-2\" class=\"sk-toggleable__label sk-toggleable__label-arrow\">TfidfVectorizer</label><div class=\"sk-toggleable__content\"><pre>TfidfVectorizer()</pre></div></div></div><div class=\"sk-item\"><div class=\"sk-estimator sk-toggleable\"><input class=\"sk-toggleable__control sk-hidden--visually\" id=\"sk-estimator-id-3\" type=\"checkbox\" ><label for=\"sk-estimator-id-3\" class=\"sk-toggleable__label sk-toggleable__label-arrow\">RandomForestClassifier</label><div class=\"sk-toggleable__content\"><pre>RandomForestClassifier(n_estimators=10)</pre></div></div></div></div></div></div></div>"
      ],
      "text/plain": [
       "Pipeline(steps=[('tfidf', TfidfVectorizer()),\n",
       "                ('classifier', RandomForestClassifier(n_estimators=10))])"
      ]
     },
     "execution_count": 42,
     "metadata": {},
     "output_type": "execute_result"
    }
   ],
   "source": [
    "classifier.fit(xtrain,ytrain)"
   ]
  },
  {
   "cell_type": "code",
   "execution_count": 43,
   "id": "9d171a40-c68d-493b-949c-7521d53303f0",
   "metadata": {},
   "outputs": [],
   "source": [
    "y_pred=classifier.predict(xtest)"
   ]
  },
  {
   "cell_type": "code",
   "execution_count": 44,
   "id": "d4bdf88d-e68b-4ad3-931a-b224fc0ac81e",
   "metadata": {},
   "outputs": [],
   "source": [
    "from sklearn.metrics import classification_report,confusion_matrix,accuracy_score"
   ]
  },
  {
   "cell_type": "code",
   "execution_count": 45,
   "id": "1aba8280-d6ff-4b02-9357-fb163766f36a",
   "metadata": {},
   "outputs": [
    {
     "data": {
      "text/plain": [
       "0.9198218262806236"
      ]
     },
     "execution_count": 45,
     "metadata": {},
     "output_type": "execute_result"
    }
   ],
   "source": [
    "accuracy_score(ytest,y_pred)"
   ]
  },
  {
   "cell_type": "code",
   "execution_count": 46,
   "id": "57d7ffd8-b9f6-4a72-8e08-885aac697d6b",
   "metadata": {},
   "outputs": [
    {
     "data": {
      "text/plain": [
       "array([[211,   4],\n",
       "       [ 32, 202]], dtype=int64)"
      ]
     },
     "execution_count": 46,
     "metadata": {},
     "output_type": "execute_result"
    }
   ],
   "source": [
    "confusion_matrix(ytest,y_pred)"
   ]
  },
  {
   "cell_type": "code",
   "execution_count": 47,
   "id": "5718d2cd-69fd-4a5c-b5db-6229bfee6eeb",
   "metadata": {},
   "outputs": [
    {
     "name": "stdout",
     "output_type": "stream",
     "text": [
      "              precision    recall  f1-score   support\n",
      "\n",
      "         ham       0.87      0.98      0.92       215\n",
      "        spam       0.98      0.86      0.92       234\n",
      "\n",
      "    accuracy                           0.92       449\n",
      "   macro avg       0.92      0.92      0.92       449\n",
      "weighted avg       0.93      0.92      0.92       449\n",
      "\n"
     ]
    }
   ],
   "source": [
    "print(classification_report(ytest,y_pred))"
   ]
  },
  {
   "cell_type": "raw",
   "id": "72f771ac-a48f-44ea-89c1-9d6a2466d6da",
   "metadata": {},
   "source": [
    "Metrics Breakdown\n",
    "Class 'ham' (Label 0)\n",
    "\n",
    "Precision: 0.87\n",
    "87% of the messages predicted as 'ham' are actually 'ham'.\n",
    "Recall: 0.99\n",
    "99% of the actual 'ham' messages are correctly identified by the model.\n",
    "F1-score: 0.93\n",
    "The harmonic mean of precision and recall for 'ham'.\n",
    "Support: 215\n",
    "Number of instances of 'ham' in the test data.\n",
    "Class 'spam' (Label 1)\n",
    "\n",
    "Precision: 0.99\n",
    "99% of the messages predicted as 'spam' are actually 'spam'.\n",
    "Recall: 0.87\n",
    "87% of the actual 'spam' messages are correctly identified by the model.\n",
    "F1-score: 0.92\n",
    "The harmonic mean of precision and recall for 'spam'.\n",
    "Support: 234\n",
    "Number of instances of 'spam' in the test data.\n",
    "Overall Metrics\n",
    "\n",
    "Accuracy: 0.93\n",
    "Overall proportion of correctly classified instances.\n",
    "Macro Avg\n",
    "Precision: 0.93\n",
    "Recall: 0.93\n",
    "F1-score: 0.93\n",
    "Unweighted average of metrics for each class.\n",
    "Weighted Avg\n",
    "Precision: 0.93\n",
    "Recall: 0.93\n",
    "F1-score: 0.93\n",
    "Weighted average considering the support (number of instances) for each class.\n",
    "Inference\n",
    "Class 'ham' Performance:\n",
    "\n",
    "The model shows very high precision (0.87) and recall (0.99) for 'ham', indicating that it correctly identifies the vast majority of 'ham' messages with very few false positives.\n",
    "Class 'spam' Performance:\n",
    "\n",
    "The model also performs excellently for 'spam', with high precision (0.99) indicating few false positives, and decent recall (0.87) indicating that it captures most 'spam' messages.\n",
    "Overall Model Performance:\n",
    "\n",
    "The overall accuracy is 93%, indicating that 93% of all messages are correctly classified.\n",
    "The macro average F1-score (0.93) suggests balanced performance across both classes.\n",
    "The weighted average metrics are also 0.93, showing consistent performance across both 'ham' and 'spam' classes.\n",
    "Conclusion\n",
    "The model appears to be highly effective for classifying messages into 'ham' and 'spam' categories. With high precision, recall, and F1-scores for both classes, the model demonstrates robust performance in distinguishing between genuine messages ('ham') and unsolicited messages ('spam'). This level of performance makes the model suitable for practical deployment where accurate classification of messages is crucial."
   ]
  },
  {
   "cell_type": "code",
   "execution_count": 48,
   "id": "e745eeb2-0318-48a8-9ff4-618783bd627a",
   "metadata": {},
   "outputs": [],
   "source": [
    "#svm\n",
    "from sklearn.svm import SVC"
   ]
  },
  {
   "cell_type": "code",
   "execution_count": 49,
   "id": "73e722a2-177e-4faa-aaa7-ce25b96b1767",
   "metadata": {},
   "outputs": [],
   "source": [
    "classifier1=Pipeline([(\"tfidf\",TfidfVectorizer()),(\"classifier\",SVC(C=100,gamma=\"auto\"))])"
   ]
  },
  {
   "cell_type": "code",
   "execution_count": 50,
   "id": "94889af6-3cdd-4c9c-9f2c-a6ef2a093b98",
   "metadata": {},
   "outputs": [
    {
     "data": {
      "text/html": [
       "<style>#sk-container-id-2 {color: black;background-color: white;}#sk-container-id-2 pre{padding: 0;}#sk-container-id-2 div.sk-toggleable {background-color: white;}#sk-container-id-2 label.sk-toggleable__label {cursor: pointer;display: block;width: 100%;margin-bottom: 0;padding: 0.3em;box-sizing: border-box;text-align: center;}#sk-container-id-2 label.sk-toggleable__label-arrow:before {content: \"▸\";float: left;margin-right: 0.25em;color: #696969;}#sk-container-id-2 label.sk-toggleable__label-arrow:hover:before {color: black;}#sk-container-id-2 div.sk-estimator:hover label.sk-toggleable__label-arrow:before {color: black;}#sk-container-id-2 div.sk-toggleable__content {max-height: 0;max-width: 0;overflow: hidden;text-align: left;background-color: #f0f8ff;}#sk-container-id-2 div.sk-toggleable__content pre {margin: 0.2em;color: black;border-radius: 0.25em;background-color: #f0f8ff;}#sk-container-id-2 input.sk-toggleable__control:checked~div.sk-toggleable__content {max-height: 200px;max-width: 100%;overflow: auto;}#sk-container-id-2 input.sk-toggleable__control:checked~label.sk-toggleable__label-arrow:before {content: \"▾\";}#sk-container-id-2 div.sk-estimator input.sk-toggleable__control:checked~label.sk-toggleable__label {background-color: #d4ebff;}#sk-container-id-2 div.sk-label input.sk-toggleable__control:checked~label.sk-toggleable__label {background-color: #d4ebff;}#sk-container-id-2 input.sk-hidden--visually {border: 0;clip: rect(1px 1px 1px 1px);clip: rect(1px, 1px, 1px, 1px);height: 1px;margin: -1px;overflow: hidden;padding: 0;position: absolute;width: 1px;}#sk-container-id-2 div.sk-estimator {font-family: monospace;background-color: #f0f8ff;border: 1px dotted black;border-radius: 0.25em;box-sizing: border-box;margin-bottom: 0.5em;}#sk-container-id-2 div.sk-estimator:hover {background-color: #d4ebff;}#sk-container-id-2 div.sk-parallel-item::after {content: \"\";width: 100%;border-bottom: 1px solid gray;flex-grow: 1;}#sk-container-id-2 div.sk-label:hover label.sk-toggleable__label {background-color: #d4ebff;}#sk-container-id-2 div.sk-serial::before {content: \"\";position: absolute;border-left: 1px solid gray;box-sizing: border-box;top: 0;bottom: 0;left: 50%;z-index: 0;}#sk-container-id-2 div.sk-serial {display: flex;flex-direction: column;align-items: center;background-color: white;padding-right: 0.2em;padding-left: 0.2em;position: relative;}#sk-container-id-2 div.sk-item {position: relative;z-index: 1;}#sk-container-id-2 div.sk-parallel {display: flex;align-items: stretch;justify-content: center;background-color: white;position: relative;}#sk-container-id-2 div.sk-item::before, #sk-container-id-2 div.sk-parallel-item::before {content: \"\";position: absolute;border-left: 1px solid gray;box-sizing: border-box;top: 0;bottom: 0;left: 50%;z-index: -1;}#sk-container-id-2 div.sk-parallel-item {display: flex;flex-direction: column;z-index: 1;position: relative;background-color: white;}#sk-container-id-2 div.sk-parallel-item:first-child::after {align-self: flex-end;width: 50%;}#sk-container-id-2 div.sk-parallel-item:last-child::after {align-self: flex-start;width: 50%;}#sk-container-id-2 div.sk-parallel-item:only-child::after {width: 0;}#sk-container-id-2 div.sk-dashed-wrapped {border: 1px dashed gray;margin: 0 0.4em 0.5em 0.4em;box-sizing: border-box;padding-bottom: 0.4em;background-color: white;}#sk-container-id-2 div.sk-label label {font-family: monospace;font-weight: bold;display: inline-block;line-height: 1.2em;}#sk-container-id-2 div.sk-label-container {text-align: center;}#sk-container-id-2 div.sk-container {/* jupyter's `normalize.less` sets `[hidden] { display: none; }` but bootstrap.min.css set `[hidden] { display: none !important; }` so we also need the `!important` here to be able to override the default hidden behavior on the sphinx rendered scikit-learn.org. See: https://github.com/scikit-learn/scikit-learn/issues/21755 */display: inline-block !important;position: relative;}#sk-container-id-2 div.sk-text-repr-fallback {display: none;}</style><div id=\"sk-container-id-2\" class=\"sk-top-container\"><div class=\"sk-text-repr-fallback\"><pre>Pipeline(steps=[(&#x27;tfidf&#x27;, TfidfVectorizer()),\n",
       "                (&#x27;classifier&#x27;, SVC(C=100, gamma=&#x27;auto&#x27;))])</pre><b>In a Jupyter environment, please rerun this cell to show the HTML representation or trust the notebook. <br />On GitHub, the HTML representation is unable to render, please try loading this page with nbviewer.org.</b></div><div class=\"sk-container\" hidden><div class=\"sk-item sk-dashed-wrapped\"><div class=\"sk-label-container\"><div class=\"sk-label sk-toggleable\"><input class=\"sk-toggleable__control sk-hidden--visually\" id=\"sk-estimator-id-4\" type=\"checkbox\" ><label for=\"sk-estimator-id-4\" class=\"sk-toggleable__label sk-toggleable__label-arrow\">Pipeline</label><div class=\"sk-toggleable__content\"><pre>Pipeline(steps=[(&#x27;tfidf&#x27;, TfidfVectorizer()),\n",
       "                (&#x27;classifier&#x27;, SVC(C=100, gamma=&#x27;auto&#x27;))])</pre></div></div></div><div class=\"sk-serial\"><div class=\"sk-item\"><div class=\"sk-estimator sk-toggleable\"><input class=\"sk-toggleable__control sk-hidden--visually\" id=\"sk-estimator-id-5\" type=\"checkbox\" ><label for=\"sk-estimator-id-5\" class=\"sk-toggleable__label sk-toggleable__label-arrow\">TfidfVectorizer</label><div class=\"sk-toggleable__content\"><pre>TfidfVectorizer()</pre></div></div></div><div class=\"sk-item\"><div class=\"sk-estimator sk-toggleable\"><input class=\"sk-toggleable__control sk-hidden--visually\" id=\"sk-estimator-id-6\" type=\"checkbox\" ><label for=\"sk-estimator-id-6\" class=\"sk-toggleable__label sk-toggleable__label-arrow\">SVC</label><div class=\"sk-toggleable__content\"><pre>SVC(C=100, gamma=&#x27;auto&#x27;)</pre></div></div></div></div></div></div></div>"
      ],
      "text/plain": [
       "Pipeline(steps=[('tfidf', TfidfVectorizer()),\n",
       "                ('classifier', SVC(C=100, gamma='auto'))])"
      ]
     },
     "execution_count": 50,
     "metadata": {},
     "output_type": "execute_result"
    }
   ],
   "source": [
    "classifier1.fit(xtrain,ytrain)"
   ]
  },
  {
   "cell_type": "code",
   "execution_count": 51,
   "id": "ace69525-1e20-4886-ba8d-6a7995ef59ea",
   "metadata": {},
   "outputs": [],
   "source": [
    "y_pred1=classifier1.predict(xtest)"
   ]
  },
  {
   "cell_type": "code",
   "execution_count": 52,
   "id": "4ba9e027-b464-4552-9d2b-d045ea23bd6e",
   "metadata": {},
   "outputs": [
    {
     "data": {
      "text/plain": [
       "0.8730512249443207"
      ]
     },
     "execution_count": 52,
     "metadata": {},
     "output_type": "execute_result"
    }
   ],
   "source": [
    "accuracy_score(ytest,y_pred1)"
   ]
  },
  {
   "cell_type": "code",
   "execution_count": 53,
   "id": "fd6afce7-588e-43a8-9743-7c464db359aa",
   "metadata": {},
   "outputs": [
    {
     "data": {
      "text/plain": [
       "array([[215,   0],\n",
       "       [ 57, 177]], dtype=int64)"
      ]
     },
     "execution_count": 53,
     "metadata": {},
     "output_type": "execute_result"
    }
   ],
   "source": [
    "confusion_matrix(ytest,y_pred1)"
   ]
  },
  {
   "cell_type": "code",
   "execution_count": 54,
   "id": "c4a3bb93-02c4-42e0-9cbd-5fd809e3250d",
   "metadata": {},
   "outputs": [
    {
     "name": "stdout",
     "output_type": "stream",
     "text": [
      "              precision    recall  f1-score   support\n",
      "\n",
      "         ham       0.79      1.00      0.88       215\n",
      "        spam       1.00      0.76      0.86       234\n",
      "\n",
      "    accuracy                           0.87       449\n",
      "   macro avg       0.90      0.88      0.87       449\n",
      "weighted avg       0.90      0.87      0.87       449\n",
      "\n"
     ]
    }
   ],
   "source": [
    "print(classification_report(ytest,y_pred1))"
   ]
  },
  {
   "cell_type": "raw",
   "id": "e02d814e-7182-45b2-828a-f96e337c49d2",
   "metadata": {},
   "source": [
    "Metrics Breakdown\n",
    "Class 'ham' (Label 0)\n",
    "\n",
    "Precision: 0.79\n",
    "79% of the messages predicted as 'ham' are actually 'ham'.\n",
    "Recall: 1.00\n",
    "100% of the actual 'ham' messages are correctly identified by the model.\n",
    "F1-score: 0.88\n",
    "The harmonic mean of precision and recall for 'ham'.\n",
    "Support: 215\n",
    "Number of instances of 'ham' in the test data.\n",
    "Class 'spam' (Label 1)\n",
    "\n",
    "Precision: 0.99\n",
    "99% of the messages predicted as 'spam' are actually 'spam'.\n",
    "Recall: 0.76\n",
    "76% of the actual 'spam' messages are correctly identified by the model.\n",
    "F1-score: 0.86\n",
    "The harmonic mean of precision and recall for 'spam'.\n",
    "Support: 234\n",
    "Number of instances of 'spam' in the test data.\n",
    "Overall Metrics\n",
    "\n",
    "Accuracy: 0.87\n",
    "Overall proportion of correctly classified instances.\n",
    "Macro Avg\n",
    "Precision: 0.89\n",
    "Recall: 0.88\n",
    "F1-score: 0.87\n",
    "Unweighted average of metrics for each class.\n",
    "Weighted Avg\n",
    "Precision: 0.90\n",
    "Recall: 0.87\n",
    "F1-score: 0.87\n",
    "Weighted average considering the support (number of instances) for each class.\n",
    "Inference\n",
    "Class 'ham' Performance:\n",
    "\n",
    "The model has high recall (1.00) for 'ham', meaning it correctly identifies all actual 'ham' messages.\n",
    "The precision for 'ham' (0.79) is lower, indicating that there are some false positives where messages are incorrectly classified as 'ham'.\n",
    "Class 'spam' Performance:\n",
    "\n",
    "The model shows high precision (0.99) for 'spam', meaning that when it predicts a message as 'spam', it is correct most of the time.\n",
    "The recall for 'spam' (0.76) is lower, indicating that some actual 'spam' messages are missed by the model.\n",
    "Overall Model Performance:\n",
    "\n",
    "The overall accuracy is 87%, indicating that 87% of all messages are correctly classified.\n",
    "The macro average F1-score (0.87) suggests reasonably balanced performance across both classes.\n",
    "The weighted average metrics (precision, recall, and F1-score) are all around 0.87, indicating consistent performance across both 'ham' and 'spam' classes.\n",
    "Conclusion\n",
    "The model performs well with high recall for 'ham' and high precision for 'spam'. However, there is a trade-off between precision and recall for 'spam', where higher precision comes at the cost of lower recall. This balance is typical in classification tasks where the model must decide between minimizing false positives (precision) and false negatives (recall). Overall, the model's performance is strong enough for many practical applications, though further tuning could potentially improve its performance, especially in capturing more 'spam' messages without compromising precision too much."
   ]
  },
  {
   "cell_type": "code",
   "execution_count": 55,
   "id": "4902ff54-d82d-4b0d-aa1b-2d4953669e90",
   "metadata": {},
   "outputs": [],
   "source": [
    "test1=[\"Congratulations! You've won a free vacation.\"]\n",
    "test2=[\"Hey, what's up?\"]\n",
    "test3=[\"Meeting tomorrow at 10 AM.\"]\n",
    "test4=[\"Click here for more details.\"]"
   ]
  },
  {
   "cell_type": "code",
   "execution_count": 56,
   "id": "e9cdea5f-b9bc-4b9c-800c-9ebb502e7df0",
   "metadata": {},
   "outputs": [
    {
     "name": "stdout",
     "output_type": "stream",
     "text": [
      "['spam']\n",
      "['ham']\n",
      "['ham']\n",
      "['ham']\n"
     ]
    }
   ],
   "source": [
    "print(classifier.predict(test1))\n",
    "print(classifier.predict(test2))\n",
    "print(classifier.predict(test3))\n",
    "print(classifier.predict(test4))"
   ]
  },
  {
   "cell_type": "code",
   "execution_count": 57,
   "id": "992c70e3-7f12-4fe1-b4fa-818ec602fa98",
   "metadata": {},
   "outputs": [
    {
     "name": "stdout",
     "output_type": "stream",
     "text": [
      "['spam']\n",
      "['ham']\n",
      "['ham']\n",
      "['ham']\n"
     ]
    }
   ],
   "source": [
    "print(classifier1.predict(test1))\n",
    "print(classifier1.predict(test2))\n",
    "print(classifier1.predict(test3))\n",
    "print(classifier1.predict(test4))"
   ]
  },
  {
   "cell_type": "code",
   "execution_count": null,
   "id": "d969376e-73eb-48c2-ada5-bd2816d102eb",
   "metadata": {},
   "outputs": [],
   "source": []
  }
 ],
 "metadata": {
  "kernelspec": {
   "display_name": "Python 3 (ipykernel)",
   "language": "python",
   "name": "python3"
  },
  "language_info": {
   "codemirror_mode": {
    "name": "ipython",
    "version": 3
   },
   "file_extension": ".py",
   "mimetype": "text/x-python",
   "name": "python",
   "nbconvert_exporter": "python",
   "pygments_lexer": "ipython3",
   "version": "3.11.7"
  }
 },
 "nbformat": 4,
 "nbformat_minor": 5
}
